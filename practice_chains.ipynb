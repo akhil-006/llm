{
 "cells": [
  {
   "cell_type": "code",
   "execution_count": 3,
   "id": "02ce8154-0c64-4b7f-a811-11f194618ff9",
   "metadata": {},
   "outputs": [],
   "source": [
    "import os\n",
    "from dotenv import load_dotenv, find_dotenv\n",
    "\n",
    "env_file = load_dotenv(find_dotenv())\n",
    "\n",
    "if not env_file:\n",
    "    raise FileNotFoundError('.env')\n",
    "    \n",
    "OPENAI_API_KEY = os.environ['OPENAI_API_KEY']"
   ]
  },
  {
   "cell_type": "code",
   "execution_count": 56,
   "id": "31343b28-16a2-4247-9eae-702f542d7732",
   "metadata": {},
   "outputs": [],
   "source": [
    "from langchain_openai import OpenAI\n",
    "\n",
    "llm_model = OpenAI()"
   ]
  },
  {
   "cell_type": "code",
   "execution_count": 4,
   "id": "47d0b640-4c88-4f59-9d7a-50acd0df395b",
   "metadata": {},
   "outputs": [],
   "source": [
    "from langchain_openai import ChatOpenAI\n",
    "\n",
    "model = 'gpt-3.5-turbo-0125'\n",
    "\n",
    "chat_model = ChatOpenAI(model=model)"
   ]
  },
  {
   "cell_type": "code",
   "execution_count": 5,
   "id": "3217d628-e0d9-451d-b886-1cee6986972e",
   "metadata": {},
   "outputs": [],
   "source": [
    "from langchain_core.prompts import PromptTemplate\n",
    "\n",
    "prompt = PromptTemplate.from_template(\n",
    "    \"Tell me a {adjective} story about {topic}!\"\n",
    ")\n",
    "\n",
    "llm_model_prompt = prompt.format(\n",
    "    adjective='curious',\n",
    "    topic='BJP Politics'\n",
    ")\n",
    "\n",
    "chat = chat_model.invoke(llm_model_prompt)"
   ]
  },
  {
   "cell_type": "code",
   "execution_count": 7,
   "id": "32307335-ca36-4a37-b506-87a0e0af0fbd",
   "metadata": {},
   "outputs": [
    {
     "name": "stdout",
     "output_type": "stream",
     "text": [
      "One curious story about BJP politics is the case of Pragya Thakur, a controversial BJP candidate who was accused of being involved in a terrorist attack. Thakur, also known as Sadhvi Pragya, was accused of being one of the masterminds behind the 2008 Malegaon bombings in Maharashtra, which killed six people and injured over a hundred.\n",
      "\n",
      "Despite facing serious charges, Thakur was fielded as the BJP candidate for the Bhopal constituency in the 2019 Lok Sabha elections. Her candidature sparked widespread controversy and criticism, with many questioning the party's decision to nominate someone with such a tainted past.\n",
      "\n",
      "Thakur's campaign was also marred by controversial statements, including claiming that she was blessed by a divine power that killed her enemies, and referring to Mahatma Gandhi's assassin, Nathuram Godse, as a \"patriot\".\n",
      "\n",
      "In a surprising turn of events, Thakur went on to win the election by a significant margin, defeating the incumbent Congress candidate. Her victory raised eyebrows and sparked further debate about the ethics and morality of political leaders in India.\n",
      "\n",
      "This story highlights the complexities and contradictions within BJP politics, where candidates with controversial backgrounds and divisive rhetoric can still find success at the polls.\n"
     ]
    }
   ],
   "source": [
    "print(chat.content)"
   ]
  },
  {
   "cell_type": "code",
   "execution_count": 49,
   "id": "82820e4e-52b6-4843-9f92-a755b7d6c558",
   "metadata": {},
   "outputs": [],
   "source": [
    "from langchain_core.prompts import ChatPromptTemplate\n",
    "\n",
    "# help(ChatMessagePromptTemplate)\n",
    "\n",
    "chat_prompt_msgs = ChatPromptTemplate.from_messages(\n",
    "    [\n",
    "        (\"system\", \"you are an expert {language} translator\"),\n",
    "        (\"human\", \"translate anything for to {language}\"),\n",
    "        (\"ai\", \"Sure!\"),\n",
    "        (\"human\", \"{question}\")\n",
    "    ]\n",
    ")\n",
    "\n",
    "\n",
    "msgs = chat_prompt_msgs.format_messages(\n",
    "    language='hindi',\n",
    "    question='What the BJP tactics of politics?')\n",
    "    # profession='Political Science',\n",
    "    # topic='Politics',\n",
    "    # usr_input='Tell me about the inception of BJP in politics'\n",
    "# )\n",
    "\n",
    "resp = chat_model.invoke(msgs)"
   ]
  },
  {
   "cell_type": "code",
   "execution_count": 50,
   "id": "0e388cdf-7e66-4dc4-a424-c8a526cef5f3",
   "metadata": {},
   "outputs": [
    {
     "data": {
      "text/plain": [
       "'भाजपा की राजनीति के तरीके क्या हैं?'"
      ]
     },
     "execution_count": 50,
     "metadata": {},
     "output_type": "execute_result"
    }
   ],
   "source": [
    "resp.content"
   ]
  },
  {
   "cell_type": "code",
   "execution_count": 64,
   "id": "8db3685b-7dca-42cf-8a93-853bb9af084d",
   "metadata": {},
   "outputs": [],
   "source": [
    "from langchain_core.prompts import PromptTemplate\n",
    "from langchain.output_parsers.json import SimpleJsonOutputParser\n",
    "\n",
    "json_prompt = PromptTemplate.from_template(\n",
    "    \"Return a json formatted response by attaching an `anwser` key for the following {question}\"\n",
    ")\n",
    "\n",
    "json_parser = SimpleJsonOutputParser()\n",
    "\n",
    "json_chain = json_prompt | chat_model | json_parser"
   ]
  },
  {
   "cell_type": "code",
   "execution_count": 65,
   "id": "de7fc134-744e-4f6d-b672-1a62e53a3fbd",
   "metadata": {},
   "outputs": [],
   "source": [
    "messages = {'question': 'which is the biggest country in the world!'}\n",
    "\n",
    "resp = json_chain.invoke(messages)"
   ]
  },
  {
   "cell_type": "code",
   "execution_count": 66,
   "id": "85cb32da-9744-475f-8b30-4f4a7e8fe926",
   "metadata": {},
   "outputs": [
    {
     "data": {
      "text/plain": [
       "{'answer': 'Russia'}"
      ]
     },
     "execution_count": 66,
     "metadata": {},
     "output_type": "execute_result"
    }
   ],
   "source": [
    "resp"
   ]
  },
  {
   "cell_type": "code",
   "execution_count": 77,
   "id": "1a2768c5-d579-4651-a027-e25d0f9573d1",
   "metadata": {},
   "outputs": [],
   "source": [
    "from langchain_core.pydantic_v1 import BaseModel, Field\n",
    "from langchain_core.output_parsers import JsonOutputParser\n",
    "\n",
    "class Politics(BaseModel):\n",
    "    politics: str = Field(description='question about the political situation')\n",
    "    country: str = Field(description='answer to specific country\\'s political situation')"
   ]
  },
  {
   "cell_type": "code",
   "execution_count": 78,
   "id": "7a199095-5379-4d38-b740-331f8d7c99f2",
   "metadata": {},
   "outputs": [],
   "source": [
    "parser = JsonOutputParser(pydantic_object=Politics)"
   ]
  },
  {
   "cell_type": "code",
   "execution_count": 81,
   "id": "ec5dc2c7-2436-4ac3-83e3-eb8b6f49aacc",
   "metadata": {},
   "outputs": [],
   "source": [
    "political_prompt = PromptTemplate(\n",
    "    template=\"Answer the user query.\\n{format_instructions}\\n{query}\\n\",\n",
    "    input_variables=[\"query\"],\n",
    "    partial_variables={\"format_instructions\": parser.get_format_instructions()},\n",
    ")\n",
    "\n",
    "custom_output_chain = political_prompt | chat_model | parser"
   ]
  },
  {
   "cell_type": "code",
   "execution_count": 82,
   "id": "59da4557-de2e-4728-8b93-f6b905bb00d0",
   "metadata": {},
   "outputs": [
    {
     "data": {
      "text/plain": [
       "{'politics': 'question about the political situation', 'country': 'Pakistan'}"
      ]
     },
     "execution_count": 82,
     "metadata": {},
     "output_type": "execute_result"
    }
   ],
   "source": [
    "custom_output_chain.invoke(dict(query='tell me politics of Pakistan'))"
   ]
  },
  {
   "cell_type": "code",
   "execution_count": null,
   "id": "32e32cca-1ff6-484c-bc7f-87dd31a72a57",
   "metadata": {},
   "outputs": [],
   "source": []
  }
 ],
 "metadata": {
  "kernelspec": {
   "display_name": "Python 3 (ipykernel)",
   "language": "python",
   "name": "python3"
  },
  "language_info": {
   "codemirror_mode": {
    "name": "ipython",
    "version": 3
   },
   "file_extension": ".py",
   "mimetype": "text/x-python",
   "name": "python",
   "nbconvert_exporter": "python",
   "pygments_lexer": "ipython3",
   "version": "3.11.4"
  }
 },
 "nbformat": 4,
 "nbformat_minor": 5
}
