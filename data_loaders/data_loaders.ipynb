{
 "cells": [
  {
   "cell_type": "code",
   "execution_count": 2,
   "id": "293319c5-039b-4a66-b49f-000a0a1205b0",
   "metadata": {},
   "outputs": [],
   "source": [
    "import os\n",
    "from dotenv import load_dotenv, find_dotenv\n",
    "\n",
    "env_file = load_dotenv(find_dotenv())\n",
    "\n",
    "OPENAI_API_KEY = os.environ['OPENAI_API_KEY']"
   ]
  },
  {
   "cell_type": "code",
   "execution_count": 3,
   "id": "b89fb415-3268-496f-965e-4581d6c38381",
   "metadata": {},
   "outputs": [],
   "source": [
    "from langchain_openai import ChatOpenAI\n",
    "\n",
    "model = 'gpt-3.5-turbo-0125'\n",
    "\n",
    "chat_model = ChatOpenAI(model=model)"
   ]
  },
  {
   "cell_type": "code",
   "execution_count": 4,
   "id": "6587d42b-ed55-456c-9cf2-c84513eb92ba",
   "metadata": {},
   "outputs": [],
   "source": [
    "from langchain_community.document_loaders import TextLoader\n",
    "\n",
    "loader = TextLoader('dataset/be-good.txt')"
   ]
  },
  {
   "cell_type": "code",
   "execution_count": 5,
   "id": "7aa82044-a2c3-4cde-bbd1-f1af699dadbb",
   "metadata": {},
   "outputs": [],
   "source": [
    "loaded_data = loader.load()"
   ]
  },
  {
   "cell_type": "code",
   "execution_count": 6,
   "id": "359e21ca-259f-4148-bc29-a7cef56cd8d5",
   "metadata": {},
   "outputs": [],
   "source": [
    "# loaded_data[0].page_content"
   ]
  },
  {
   "cell_type": "code",
   "execution_count": 7,
   "id": "0f79f113-e42b-4b1f-a2e4-890f7edcf0ba",
   "metadata": {},
   "outputs": [],
   "source": [
    "from langchain_core.prompts import ChatPromptTemplate\n",
    "\n",
    "chat_prompt = ChatPromptTemplate.from_template(\n",
    "    \"Can you suggest me a title to this dataset: {dataset}?\"\n",
    ")\n",
    "\n",
    "message = {\n",
    "    'dataset': loaded_data[0].page_content\n",
    "}\n",
    "\n",
    "message = chat_prompt.format_messages(\n",
    "    dataset=loaded_data\n",
    ")\n",
    "\n",
    "resp = chat_model.invoke(message)"
   ]
  },
  {
   "cell_type": "code",
   "execution_count": 8,
   "id": "c872716b-d8e9-4bd7-8146-aecaabc4d7fb",
   "metadata": {},
   "outputs": [
    {
     "data": {
      "text/plain": [
       "'\"Exploring the Power of Benevolence in Business and Startups\"'"
      ]
     },
     "execution_count": 8,
     "metadata": {},
     "output_type": "execute_result"
    }
   ],
   "source": [
    "resp.content"
   ]
  },
  {
   "cell_type": "markdown",
   "id": "bd72f4c6-ad3c-44c3-8e70-24bc63d0a1b9",
   "metadata": {},
   "source": [
    "# RAG Method of handling large datasets/volumes"
   ]
  },
  {
   "cell_type": "markdown",
   "id": "f40742a5-a932-4313-9f62-4956f3e20be3",
   "metadata": {},
   "source": [
    "# _CharacterTextSplitter_ Technique"
   ]
  },
  {
   "cell_type": "code",
   "execution_count": 9,
   "id": "8ea40b1e-5167-4d13-b41c-3fa5df10bb74",
   "metadata": {},
   "outputs": [],
   "source": [
    "from langchain_text_splitters import CharacterTextSplitter\n",
    "\n",
    "splitter = CharacterTextSplitter(\n",
    "    separator='\\n\\n',\n",
    "    chunk_size=1000,\n",
    "    chunk_overlap=200,\n",
    "    length_function=len,\n",
    "    is_separator_regex=False\n",
    ")"
   ]
  },
  {
   "cell_type": "code",
   "execution_count": 10,
   "id": "7133058f-859b-47a3-9b59-31d9654c44c5",
   "metadata": {},
   "outputs": [],
   "source": [
    "text = splitter.create_documents(\n",
    "    [loaded_data[0].page_content]\n",
    ")"
   ]
  },
  {
   "cell_type": "code",
   "execution_count": 11,
   "id": "c26d50a0-8050-434b-a9fe-500acbe507d2",
   "metadata": {},
   "outputs": [
    {
     "data": {
      "text/plain": [
       "2"
      ]
     },
     "execution_count": 11,
     "metadata": {},
     "output_type": "execute_result"
    }
   ],
   "source": [
    "len(text)"
   ]
  },
  {
   "cell_type": "code",
   "execution_count": 12,
   "id": "aadbc869-288b-4c71-bc93-b49bba733e4f",
   "metadata": {},
   "outputs": [],
   "source": [
    "metadata = [{'chunk': 0}, {'chunk': 1}]\n",
    "\n",
    "text_with_metadata = splitter.create_documents(\n",
    "    [\n",
    "        loaded_data[0].page_content, loaded_data[0].page_content\n",
    "    ],\n",
    "    metadatas=metadata\n",
    ")"
   ]
  },
  {
   "cell_type": "code",
   "execution_count": 13,
   "id": "a2a92a3e-25f3-49f1-b19f-172343462c6c",
   "metadata": {},
   "outputs": [
    {
     "data": {
      "text/plain": [
       "Document(metadata={'chunk': 0}, page_content='Be good')"
      ]
     },
     "execution_count": 13,
     "metadata": {},
     "output_type": "execute_result"
    }
   ],
   "source": [
    "text_with_metadata[0]"
   ]
  },
  {
   "cell_type": "markdown",
   "id": "69f2c8d8-8adf-4372-83bd-4e3d512db9c4",
   "metadata": {},
   "source": [
    "# _RecursiveSplitter_ Technique"
   ]
  },
  {
   "cell_type": "code",
   "execution_count": 14,
   "id": "abed4693-6ded-42a6-8697-b5a8628e38c5",
   "metadata": {},
   "outputs": [],
   "source": [
    "from langchain_text_splitters import RecursiveCharacterTextSplitter\n",
    "\n",
    "recursive_splitter = RecursiveCharacterTextSplitter(\n",
    "    chunk_overlap=4,\n",
    "    chunk_size=26\n",
    ")"
   ]
  },
  {
   "cell_type": "code",
   "execution_count": 15,
   "id": "9cf1de3d-43b8-4927-8f3c-2e5fe67b7920",
   "metadata": {},
   "outputs": [],
   "source": [
    "text1 = 'abcdefghijklmnopqrstuvwxyz'"
   ]
  },
  {
   "cell_type": "code",
   "execution_count": 16,
   "id": "c1a1c246-c8fd-4be9-b8a9-4866149b339d",
   "metadata": {},
   "outputs": [],
   "source": [
    "text2 = \"\"\"\n",
    "Data that Speak\n",
    "LLM Applications are revolutionizing industries such as \n",
    "banking, healthcare, insurance, education, legal, tourism, \n",
    "construction, logistics, marketing, sales, customer service, \n",
    "and even public administration.\n",
    "\n",
    "The aim of our programs is for students to learn how to \n",
    "create LLM Applications in the context of a business, \n",
    "which presents a set of challenges that are important \n",
    "to consider in advance.\n",
    "\"\"\""
   ]
  },
  {
   "cell_type": "code",
   "execution_count": 17,
   "id": "ccfcee4e-14ee-4e4f-9ed6-86d6ec97412a",
   "metadata": {},
   "outputs": [
    {
     "data": {
      "text/plain": [
       "['abcdefghijklmnopqrstuvwxyz']"
      ]
     },
     "execution_count": 17,
     "metadata": {},
     "output_type": "execute_result"
    }
   ],
   "source": [
    "recursive_splitter.split_text(text1)"
   ]
  },
  {
   "cell_type": "code",
   "execution_count": 18,
   "id": "f97bab6a-9bfa-4c83-9664-28f24bd85b5c",
   "metadata": {},
   "outputs": [
    {
     "data": {
      "text/plain": [
       "['Data that Speak',\n",
       " 'LLM Applications are',\n",
       " 'are revolutionizing',\n",
       " 'industries such as',\n",
       " 'banking, healthcare,',\n",
       " 'insurance, education,',\n",
       " 'legal, tourism,',\n",
       " 'construction, logistics,',\n",
       " 'marketing, sales,',\n",
       " 'customer service,',\n",
       " 'and even public',\n",
       " 'administration.',\n",
       " 'The aim of our programs',\n",
       " 'is for students to learn',\n",
       " 'how to',\n",
       " 'create LLM Applications',\n",
       " 'in the context of a',\n",
       " 'a business,',\n",
       " 'which presents a set of',\n",
       " 'of challenges that are',\n",
       " 'are important',\n",
       " 'to consider in advance.']"
      ]
     },
     "execution_count": 18,
     "metadata": {},
     "output_type": "execute_result"
    }
   ],
   "source": [
    "recursive_splitter.split_text(text2)"
   ]
  },
  {
   "cell_type": "code",
   "execution_count": 20,
   "id": "6685b1aa-3cd0-40db-bb20-4fe799a6dc70",
   "metadata": {},
   "outputs": [],
   "source": [
    "second_recursive_splitter = RecursiveCharacterTextSplitter(\n",
    "    chunk_overlap=0,\n",
    "    chunk_size=150,\n",
    "    separators=[\"\\n\\n\", \"\\n\", \"(?<=\\. )\", \" \", \"\"]\n",
    ")"
   ]
  },
  {
   "cell_type": "raw",
   "id": "d70d1149-07b0-4e9b-9112-7ba894e1b304",
   "metadata": {},
   "source": [
    "second_recursive_splitter.split_text(text2)"
   ]
  },
  {
   "cell_type": "raw",
   "id": "13d06a59-4bb7-4695-88de-e0618c23177a",
   "metadata": {},
   "source": []
  },
  {
   "cell_type": "code",
   "execution_count": null,
   "id": "b862cf92-9962-4fd2-9638-6e67bf1782f0",
   "metadata": {},
   "outputs": [],
   "source": []
  }
 ],
 "metadata": {
  "kernelspec": {
   "display_name": "Python 3 (ipykernel)",
   "language": "python",
   "name": "python3"
  },
  "language_info": {
   "codemirror_mode": {
    "name": "ipython",
    "version": 3
   },
   "file_extension": ".py",
   "mimetype": "text/x-python",
   "name": "python",
   "nbconvert_exporter": "python",
   "pygments_lexer": "ipython3",
   "version": "3.11.4"
  }
 },
 "nbformat": 4,
 "nbformat_minor": 5
}
