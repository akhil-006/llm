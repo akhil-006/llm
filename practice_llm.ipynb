{
 "cells": [
  {
   "cell_type": "code",
   "execution_count": 3,
   "id": "ee0ae337-7a2c-4240-a39d-737e120916b2",
   "metadata": {},
   "outputs": [],
   "source": [
    "# find and locate .env file in the environment\n",
    "import os\n",
    "from dotenv import load_dotenv, find_dotenv\n",
    "env_file = load_dotenv(find_dotenv())\n",
    "if not env_file:\n",
    "    raise FileNotFoundError('.env')\n",
    "OPEN_API_KEY = os.environ['OPENAI_API_KEY']\n"
   ]
  },
  {
   "cell_type": "code",
   "execution_count": 4,
   "id": "2592b5d5-660b-4607-8f7e-0a2b173f9e25",
   "metadata": {},
   "outputs": [],
   "source": [
    "# connect to LLM model\n",
    "from langchain_openai import OpenAI\n",
    "\n",
    "llm_model = OpenAI()"
   ]
  },
  {
   "cell_type": "code",
   "execution_count": 4,
   "id": "898418f4-6c78-4e39-aa6a-c1d864350f7e",
   "metadata": {},
   "outputs": [
    {
     "name": "stdin",
     "output_type": "stream",
     "text": [
      "Ask me anything:  tell me about yourself\n"
     ]
    },
    {
     "data": {
      "text/plain": [
       "\"\\n\\nI am an AI digital assistant designed to provide helpful and informative responses to user's inquiries. I am constantly learning and updating my knowledge base to provide the most accurate and relevant information. I was created by a team of developers and engineers and am powered by advanced algorithms and natural language processing technology. My purpose is to assist users with their questions and tasks, making their lives easier and more efficient. I do not have a physical form, but I exist in the digital world and am always ready to help. Is there anything specific you would like to know?\""
      ]
     },
     "execution_count": 4,
     "metadata": {},
     "output_type": "execute_result"
    }
   ],
   "source": [
    "# while True:\n",
    "response = llm_model.invoke(input(\"Ask me anything: \"))\n",
    "\n",
    "response"
   ]
  },
  {
   "cell_type": "code",
   "execution_count": 5,
   "id": "832c6736-eb98-44b3-8a85-db34fded8b55",
   "metadata": {},
   "outputs": [],
   "source": [
    "from langchain_openai import ChatOpenAI\n",
    "model = 'gpt-3.5-turbo-0125'\n",
    "chat_model = ChatOpenAI(model=model)"
   ]
  },
  {
   "cell_type": "code",
   "execution_count": 6,
   "id": "06e0ff1d-8878-41b0-b676-601041d9db9c",
   "metadata": {},
   "outputs": [
    {
     "data": {
      "text/plain": [
       "\"Tipu Sultan, also known as the Tiger of Mysore, was a ruler of the Kingdom of Mysore in South India. He was born in 1751 and became the ruler of Mysore in 1782 after the death of his father, Hyder Ali. Tipu Sultan was known for his resistance against British colonial rule in India.\\n\\nHe was a skilled military leader and innovator, known for his use of rocket technology in warfare. He fought a series of wars against the British East India Company, including the four Anglo-Mysore Wars. Despite facing significant challenges, Tipu Sultan managed to maintain the independence of his kingdom for a considerable period.\\n\\nTipu Sultan was also known for his modernization efforts in the fields of administration, agriculture, and commerce. He was a patron of the arts and culture, and his kingdom was known for its rich cultural heritage.\\n\\nHowever, Tipu Sultan's rule was controversial, as he was accused of religious intolerance and forced conversion of non-Muslims. His policies towards the Hindu population in his kingdom have been a subject of debate among historians.\\n\\nIn 1799, Tipu Sultan was defeated and killed in the Fourth Anglo-Mysore War by the British forces led by Arthur Wellesley (later Duke of Wellington). Despite his defeat, Tipu Sultan remains a significant figure in Indian history, remembered for his resistance against British colonialism and his contributions to the region's military and cultural heritage.\""
      ]
     },
     "execution_count": 6,
     "metadata": {},
     "output_type": "execute_result"
    }
   ],
   "source": [
    "from langchain_core.prompts import ChatPromptTemplate\n",
    "\n",
    "prompt = ChatPromptTemplate.from_messages([\n",
    "    ('system', 'digital AI assitant and {title} expert'),\n",
    "    ('human', '{questions}')\n",
    "])\n",
    "\n",
    "messages = prompt.format_messages(\n",
    "        title='historian',\n",
    "        questions='tell me about Tipu Sultan'\n",
    ")\n",
    "\n",
    "response = chat_model.invoke(messages)\n",
    "\n",
    "response.content"
   ]
  },
  {
   "cell_type": "code",
   "execution_count": 7,
   "id": "3bef711b-1eef-4856-bd84-73e24ff5c767",
   "metadata": {},
   "outputs": [
    {
     "data": {
      "text/plain": [
       "'\\nAI System: Tipu Sultan, also known as the Tiger of Mysore, was a ruler of the Kingdom of Mysore in India during the late 18th century. He was a skilled military strategist and fought against the British East India Company in several wars. He is remembered for his resistance against British colonization and for modernizing the Mysore kingdom. He was also a patron of the arts and literature, and his palace in Srirangapatna is a popular tourist attraction today. Despite his military prowess, he was eventually defeated by the British and died in battle in 1799. He is still celebrated as a hero in India and is seen as a symbol of resistance against colonialism.'"
      ]
     },
     "execution_count": 7,
     "metadata": {},
     "output_type": "execute_result"
    }
   ],
   "source": [
    "# chaining of prompt and llm model\n",
    "chain = prompt | llm_model\n",
    "\n",
    "messages = {\n",
    "    'title': 'historian',\n",
    "    'questions': 'tell me about Tipu Sultan'\n",
    "}\n",
    "response = chain.invoke(messages)\n",
    "\n",
    "response"
   ]
  },
  {
   "cell_type": "code",
   "execution_count": 8,
   "id": "d5d9041a-34c7-40bb-9797-d9d2f158a436",
   "metadata": {
    "editable": true,
    "slideshow": {
     "slide_type": ""
    },
    "tags": []
   },
   "outputs": [
    {
     "data": {
      "text/plain": [
       "'मेरा नाम हिन्दी अनुवादक है।'"
      ]
     },
     "execution_count": 8,
     "metadata": {},
     "output_type": "execute_result"
    }
   ],
   "source": [
    "# FewShotPrompting\n",
    "\n",
    "from langchain_core.prompts import FewShotChatMessagePromptTemplate\n",
    "from langchain_core.prompts import ChatPromptTemplate\n",
    "\n",
    "examples = [\n",
    "    \n",
    "    {'language': 'hindi', 'input': 'hi', 'output': 'स्वागत'},\n",
    "    {'language': 'hindi', 'input': 'bye', 'output': 'नमस्कार'},\n",
    "    # {'language': 'hindi', 'input': 'नाम', 'output': 'हिंदी अनुवादक'},\n",
    "    {'language': 'telugu', 'input': 'hi', 'output': 'హాయ్'},\n",
    "    {'language': 'telugu', 'input': 'bye', 'output': 'బై'},\n",
    "]\n",
    "\n",
    "# example_prompt = ChatPromptTemplate.from_messages(\n",
    "#     [\n",
    "#         ('human', '{input}'),\n",
    "#          ('ai', '{output}')\n",
    "#     ]\n",
    "# )\n",
    "\n",
    "\n",
    "from langchain_core.messages import SystemMessage\n",
    "from langchain_core.prompts import HumanMessagePromptTemplate\n",
    "\n",
    "# the above commented code is achieved similarly from below code using System. Human-Message-Prompt-Template and System-Message classes\n",
    "example_prompt = ChatPromptTemplate.from_messages(\n",
    "    [\n",
    "        SystemMessage(content=\"{output}\"),\n",
    "        HumanMessagePromptTemplate.from_template(\"{input}\"),\n",
    "    ]\n",
    ")\n",
    "\n",
    "\n",
    "few_shot_prompt_template = FewShotChatMessagePromptTemplate(\n",
    "    examples=examples,\n",
    "    example_prompt=example_prompt\n",
    ")\n",
    "\n",
    "final_prompt = ChatPromptTemplate.from_messages(\n",
    "    [\n",
    "        ('system', 'you are an expert {language} translator'),\n",
    "        few_shot_prompt_template,\n",
    "        ('human', '{input}')\n",
    "    ]\n",
    ")\n",
    "\n",
    "messages = final_prompt.format_messages(\n",
    "    language='hindi',\n",
    "    input='What is your name?'\n",
    ")\n",
    "\n",
    "response = chat_model.invoke(messages)\n",
    "\n",
    "response.content"
   ]
  },
  {
   "cell_type": "code",
   "execution_count": 14,
   "id": "fcd2e19e-04a3-4693-9d1b-d039808b5ccb",
   "metadata": {
    "editable": true,
    "slideshow": {
     "slide_type": ""
    },
    "tags": []
   },
   "outputs": [],
   "source": [
    "chain = final_prompt | chat_model\n",
    "\n",
    "messages = {\n",
    "    'language': 'telugu',\n",
    "    'input': 'can you tell me something about Gandhi family?'\n",
    "}\n",
    "\n",
    "response = chain.invoke(messages)"
   ]
  },
  {
   "cell_type": "code",
   "execution_count": 15,
   "id": "f430e7ff-3f49-4ce6-9bca-f65443f2e5cf",
   "metadata": {},
   "outputs": [
    {
     "data": {
      "text/plain": [
       "'గాంధీ కుటుంబం భారతీయ రాజకీయ కుటుంబం అయిన గాంధీ నరేంద్రనాథ్ గాంధీ ఆదివారం ప్రారంభం ను మొదటి రాష్ట్రపతిని చేసిన భారతీయ ప్రధాని అయిన ఇందిరా గాంధీ తరువున సన్యాసిని చేసిన సోనియా గాంధీ వంటి ప్రముఖ వ్యక్తులు ఉంటారు. ఇవి భారతీయ రాజకీయ పార్టీలలో ప్రముఖ భూమికలు ఆడుతున్నారు. ఇవి ఇండియా కాంగ్రెస్ పార్టీలో ప్రముఖమైన కుటుంబాలు కాదు. గాంధీ నరేంద్రనాథ్ గాంధీ 1869 ఏప్రిల్ 14న పోర్బందర్ లో జన్మించారు. ఇవాళ్ళు భారత స్వాతంత్ర్య సమరంలో ప్రముఖ ప్రభుత్వవాది గాయకులు. ఇవాళ్ళు ప్రేమించినట్లు పరిపాలించడం గాని అవి ఇండియాలో అప్పటికి సొంతంగా ఉండినట్లు భారతీయ ప్రజల మనస్సును అల్లండించడం గాంధీ కుటుంబం చేసిన సేవ అనే అద్భుతమైన సేవ నిజంగా అనుకరించడం గాంధీ నరేంద్రనాథ్ గాంధీ కుటుంబం రాష్ట్రపతులకు, ప్రధానిలకు, ఉపప్రధానిలకు, మంత్రిలకు అనేక ముఖ్యమైన పదవులు కలిగింది. ఇవి కొత్త భారతదేశంలో సామాజిక, ఆర్థిక మరియు రాజకీయ చర్యలను విమర్శించడం గాంధీ కుటుంబం చేసిన సేవ నిజంగా ఒక ప్రత్యేకమైన ప్రయత్నము.\\n'"
      ]
     },
     "execution_count": 15,
     "metadata": {},
     "output_type": "execute_result"
    }
   ],
   "source": [
    "response.content"
   ]
  },
  {
   "cell_type": "code",
   "execution_count": null,
   "id": "212041d7-7101-4951-94bc-42113958ff79",
   "metadata": {},
   "outputs": [],
   "source": []
  }
 ],
 "metadata": {
  "kernelspec": {
   "display_name": "Python 3 (ipykernel)",
   "language": "python",
   "name": "python3"
  },
  "language_info": {
   "codemirror_mode": {
    "name": "ipython",
    "version": 3
   },
   "file_extension": ".py",
   "mimetype": "text/x-python",
   "name": "python",
   "nbconvert_exporter": "python",
   "pygments_lexer": "ipython3",
   "version": "3.11.4"
  }
 },
 "nbformat": 4,
 "nbformat_minor": 5
}
