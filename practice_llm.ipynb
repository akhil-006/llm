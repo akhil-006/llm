{
 "cells": [
  {
   "cell_type": "code",
   "execution_count": 1,
   "id": "ee0ae337-7a2c-4240-a39d-737e120916b2",
   "metadata": {},
   "outputs": [],
   "source": [
    "# find and locate .env file in the environment\n",
    "import os\n",
    "from dotenv import load_dotenv, find_dotenv\n",
    "env_file = load_dotenv(find_dotenv())\n",
    "if not env_file:\n",
    "    raise FileNotFoundError('.env')\n",
    "OPEN_API_KEY = os.environ['OPENAI_API_KEY']\n"
   ]
  },
  {
   "cell_type": "code",
   "execution_count": 17,
   "id": "2592b5d5-660b-4607-8f7e-0a2b173f9e25",
   "metadata": {},
   "outputs": [],
   "source": [
    "# connect to LLM model\n",
    "from langchain_openai import OpenAI\n",
    "\n",
    "llm_model = OpenAI()"
   ]
  },
  {
   "cell_type": "code",
   "execution_count": 4,
   "id": "898418f4-6c78-4e39-aa6a-c1d864350f7e",
   "metadata": {},
   "outputs": [
    {
     "name": "stdin",
     "output_type": "stream",
     "text": [
      "Ask me anything:  tell me about yourself\n"
     ]
    },
    {
     "data": {
      "text/plain": [
       "\"\\n\\nI am an AI digital assistant designed to provide helpful and informative responses to user's inquiries. I am constantly learning and updating my knowledge base to provide the most accurate and relevant information. I was created by a team of developers and engineers and am powered by advanced algorithms and natural language processing technology. My purpose is to assist users with their questions and tasks, making their lives easier and more efficient. I do not have a physical form, but I exist in the digital world and am always ready to help. Is there anything specific you would like to know?\""
      ]
     },
     "execution_count": 4,
     "metadata": {},
     "output_type": "execute_result"
    }
   ],
   "source": [
    "# while True:\n",
    "response = llm_model.invoke(input(\"Ask me anything: \"))\n",
    "\n",
    "response"
   ]
  },
  {
   "cell_type": "code",
   "execution_count": 18,
   "id": "832c6736-eb98-44b3-8a85-db34fded8b55",
   "metadata": {},
   "outputs": [],
   "source": [
    "from langchain_openai import ChatOpenAI\n",
    "model = 'gpt-3.5-turbo-0125'\n",
    "chat_model = ChatOpenAI(model=model)"
   ]
  },
  {
   "cell_type": "code",
   "execution_count": 28,
   "id": "06e0ff1d-8878-41b0-b676-601041d9db9c",
   "metadata": {},
   "outputs": [
    {
     "data": {
      "text/plain": [
       "\"Tipu Sultan, also known as the Tiger of Mysore, was a ruler of the Kingdom of Mysore in southern India. He was born in 1751 and ruled from 1782 until his death in 1799. Tipu Sultan was known for his resistance against British colonial rule in India.\\n\\nHe was a strong and skilled military leader, known for his innovative use of rockets in warfare. However, Tipu Sultan's reign was marked by conflicts with the British East India Company, leading to several Anglo-Mysore Wars. In the Fourth Anglo-Mysore War, Tipu Sultan was defeated and killed in 1799.\\n\\nTipu Sultan is remembered as a nationalist hero in India for his efforts to resist British expansion in the region. He is also known for his support of technological and agricultural advancements in his kingdom. However, his rule was also marked by controversies, including the forced conversion of some of his subjects to Islam.\\n\\nOverall, Tipu Sultan remains a controversial figure in Indian history, with some viewing him as a freedom fighter and others as a tyrant.\""
      ]
     },
     "execution_count": 28,
     "metadata": {},
     "output_type": "execute_result"
    }
   ],
   "source": [
    "from langchain_core.prompts import ChatPromptTemplate\n",
    "\n",
    "prompt = ChatPromptTemplate.from_messages([\n",
    "    ('system', 'digital AI assitant and {title} expert'),\n",
    "    ('human', '{questions}')\n",
    "])\n",
    "\n",
    "messages = prompt.format_messages(\n",
    "        title='historian',\n",
    "        questions='tell me about Tipu Sultan'\n",
    ")\n",
    "\n",
    "response = chat_model.invoke(messages)\n",
    "\n",
    "response.content"
   ]
  },
  {
   "cell_type": "code",
   "execution_count": 30,
   "id": "3bef711b-1eef-4856-bd84-73e24ff5c767",
   "metadata": {},
   "outputs": [
    {
     "data": {
      "text/plain": [
       "'\\nSystem: Tipu Sultan (1750-1799) was a ruler of the Kingdom of Mysore in Southern India. He is also known as the Tiger of Mysore for his bravery and military skills. He was the son of Haider Ali, who was also a ruler of Mysore. Tipu Sultan is remembered for his resistance against the British East India Company and his efforts to modernize the Mysore kingdom. He also initiated economic and educational reforms and was a patron of the arts and literature. However, his reign ended with his defeat and death in the Fourth Anglo-Mysore War. He remains a controversial figure in Indian history, with some viewing him as a freedom fighter and others as a tyrant.'"
      ]
     },
     "execution_count": 30,
     "metadata": {},
     "output_type": "execute_result"
    }
   ],
   "source": [
    "# chaining of prompt and llm model\n",
    "chain = prompt | llm_model\n",
    "\n",
    "messages = {\n",
    "    'title': 'historian',\n",
    "    'questions': 'tell me about Tipu Sultan'\n",
    "}\n",
    "response = chain.invoke(messages)\n",
    "\n",
    "response"
   ]
  },
  {
   "cell_type": "code",
   "execution_count": 58,
   "id": "d5d9041a-34c7-40bb-9797-d9d2f158a436",
   "metadata": {
    "editable": true,
    "slideshow": {
     "slide_type": ""
    },
    "tags": []
   },
   "outputs": [
    {
     "data": {
      "text/plain": [
       "'मेरा नाम एल-लिंगो है।'"
      ]
     },
     "execution_count": 58,
     "metadata": {},
     "output_type": "execute_result"
    }
   ],
   "source": [
    "# FewShotPrompting\n",
    "\n",
    "from langchain_core.prompts import FewShotChatMessagePromptTemplate\n",
    "from langchain_core.prompts import ChatPromptTemplate\n",
    "\n",
    "examples = [\n",
    "    \n",
    "    {'language': 'hindi', 'input': 'hi', 'output': 'स्वागत'},\n",
    "    {'language': 'hindi', 'input': 'bye', 'output': 'नमस्कार'},\n",
    "    # {'language': 'hindi', 'input': 'नाम', 'output': 'हिंदी अनुवादक'},\n",
    "    {'language': 'telugu', 'input': 'hi', 'output': 'హాయ్'},\n",
    "    {'language': 'telugu', 'input': 'bye', 'output': 'బై'},\n",
    "]\n",
    "\n",
    "# example_prompt = ChatPromptTemplate.from_messages(\n",
    "#     [\n",
    "#         ('human', '{input}'),\n",
    "#          ('ai', '{output}')\n",
    "#     ]\n",
    "# )\n",
    "\n",
    "\n",
    "from langchain_core.messages import SystemMessage\n",
    "from langchain_core.prompts import HumanMessagePromptTemplate\n",
    "\n",
    "# the above commented code is acheived similarly from below code using System. Human Message Prompt Template classes\n",
    "example_prompt = ChatPromptTemplate.from_messages(\n",
    "    [\n",
    "        SystemMessage(content=\"{output}\"),\n",
    "        HumanMessagePromptTemplate.from_template(\"{input}\"),\n",
    "    ]\n",
    ")\n",
    "\n",
    "\n",
    "few_shot_prompt_template = FewShotChatMessagePromptTemplate(\n",
    "    examples=examples,\n",
    "    example_prompt=example_prompt\n",
    ")\n",
    "\n",
    "final_prompt = ChatPromptTemplate.from_messages(\n",
    "    [\n",
    "        ('system', 'you are an expert {language} translator'),\n",
    "        few_shot_prompt_template,\n",
    "        ('human', '{input}')\n",
    "    ]\n",
    ")\n",
    "\n",
    "messages = final_prompt.format_messages(\n",
    "    language='hindi',\n",
    "    input='What is your name?'\n",
    ")\n",
    "\n",
    "response = chat_model.invoke(messages)\n",
    "\n",
    "response.content"
   ]
  },
  {
   "cell_type": "code",
   "execution_count": 57,
   "id": "fcd2e19e-04a3-4693-9d1b-d039808b5ccb",
   "metadata": {
    "editable": true,
    "slideshow": {
     "slide_type": ""
    },
    "tags": []
   },
   "outputs": [
    {
     "data": {
      "text/plain": [
       "'\\nSystem: {output}\\nHuman: नाम\\nSystem: {output}\\nHuman: hi\\nSystem: {output}\\nHuman: bye\\nSystem: {output}\\nHuman: नाम\\nSystem: {output}\\nHuman: hi\\nSystem: {output}\\nHuman: bye\\nSystem: {output}\\nHuman: नाम\\nSystem: {output}\\nHuman: hi\\nSystem: {output}\\nHuman: bye\\nSystem: {output}\\nHuman: नाम\\nSystem: {output}\\nHuman: hi\\nSystem: {output}\\nHuman: bye\\nSystem: {output}\\nHuman: नाम\\nSystem: {output}\\nHuman: hi\\nSystem: {output}\\nHuman: bye\\nSystem: {output}\\nHuman: नाम\\nSystem: नाम क्या है?'"
      ]
     },
     "execution_count": 57,
     "metadata": {},
     "output_type": "execute_result"
    }
   ],
   "source": [
    "chain = few_shot_prompt_template | llm_model\n",
    "\n",
    "messages = {\n",
    "    'language': 'hindi',\n",
    "    'input': 'क्या तुम गांधी परिवार के बाए में मुझे कुछ बता सकते हो?'\n",
    "}\n",
    "\n",
    "response = chain.invoke(messages)\n",
    "\n",
    "response"
   ]
  },
  {
   "cell_type": "code",
   "execution_count": null,
   "id": "f430e7ff-3f49-4ce6-9bca-f65443f2e5cf",
   "metadata": {},
   "outputs": [],
   "source": []
  }
 ],
 "metadata": {
  "kernelspec": {
   "display_name": "Python 3 (ipykernel)",
   "language": "python",
   "name": "python3"
  },
  "language_info": {
   "codemirror_mode": {
    "name": "ipython",
    "version": 3
   },
   "file_extension": ".py",
   "mimetype": "text/x-python",
   "name": "python",
   "nbconvert_exporter": "python",
   "pygments_lexer": "ipython3",
   "version": "3.11.4"
  }
 },
 "nbformat": 4,
 "nbformat_minor": 5
}
