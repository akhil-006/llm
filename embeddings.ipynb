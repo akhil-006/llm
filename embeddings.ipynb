{
 "cells": [
  {
   "cell_type": "code",
   "execution_count": 7,
   "id": "d604c2fd-86a0-4aed-85e1-0412761a0a5b",
   "metadata": {},
   "outputs": [],
   "source": [
    "from dotenv import load_dotenv, find_dotenv\n",
    "import os\n",
    "\n",
    "env_file = load_dotenv(find_dotenv())\n",
    "\n",
    "openai_api_key = os.environ['OPENAI_API_KEY']"
   ]
  },
  {
   "cell_type": "code",
   "execution_count": 10,
   "id": "b75e4efc-6968-43bb-9991-887521aefd4f",
   "metadata": {},
   "outputs": [],
   "source": [
    "from langchain_openai import ChatOpenAI\n",
    "\n",
    "model = 'gpt-3.5-turbo-0125'\n",
    "chat_model = ChatOpenAI(model=model)"
   ]
  },
  {
   "cell_type": "code",
   "execution_count": 12,
   "id": "74d5afb5-ee77-418b-9be6-386b7a6031db",
   "metadata": {},
   "outputs": [],
   "source": [
    "from langchain_community.document_loaders import TextLoader\n",
    "\n",
    "loader = TextLoader('/home/devpro/workspace/llm/llm/data_loaders/dataset/be-good.txt')\n",
    "\n",
    "data = loader.load()"
   ]
  },
  {
   "cell_type": "code",
   "execution_count": 13,
   "id": "3d3e8e4f-62d9-4bf1-bf3f-786dce455f92",
   "metadata": {},
   "outputs": [],
   "source": [
    "from langchain_openai import OpenAIEmbeddings\n",
    "\n",
    "embeddings_model = OpenAIEmbeddings()"
   ]
  },
  {
   "cell_type": "code",
   "execution_count": 16,
   "id": "063f132a-e99e-4241-a411-fe674416ef1e",
   "metadata": {},
   "outputs": [],
   "source": [
    "chunks_of_text = [\n",
    "    'Hi, there!',\n",
    "    'Hello!',\n",
    "    'What\\'s your name?',\n",
    "    'Bond, James Bond!',\n",
    "    'Hello Bond!',\n",
    "]"
   ]
  },
  {
   "cell_type": "code",
   "execution_count": 17,
   "id": "34aa0735-2c15-48d6-b000-06b29c50a780",
   "metadata": {},
   "outputs": [],
   "source": [
    "embeddings = embeddings_model.embed_documents(chunks_of_text)"
   ]
  },
  {
   "cell_type": "code",
   "execution_count": 18,
   "id": "76f29bff-0902-469f-bfb1-d32b468ddb23",
   "metadata": {},
   "outputs": [
    {
     "data": {
      "text/plain": [
       "5"
      ]
     },
     "execution_count": 18,
     "metadata": {},
     "output_type": "execute_result"
    }
   ],
   "source": [
    "len(embeddings)"
   ]
  },
  {
   "cell_type": "code",
   "execution_count": 21,
   "id": "f45288e2-16b1-4f9e-ac88-3ff258aa19ca",
   "metadata": {},
   "outputs": [
    {
     "data": {
      "text/plain": [
       "1536"
      ]
     },
     "execution_count": 21,
     "metadata": {},
     "output_type": "execute_result"
    }
   ],
   "source": [
    "len(embeddings[0])"
   ]
  },
  {
   "cell_type": "code",
   "execution_count": 25,
   "id": "f4fbbff0-3c4a-461f-bcbf-1d7b42a02441",
   "metadata": {},
   "outputs": [
    {
     "name": "stdout",
     "output_type": "stream",
     "text": [
      "[-0.013263874687254429, -0.008836302906274796, -0.01655472256243229, -0.029692992568016052, -0.032079484313726425]\n"
     ]
    }
   ],
   "source": [
    "# Capturing only first five embedding for `chunks_of_text[0]` from above\n",
    "print(embeddings[0][:5])"
   ]
  },
  {
   "cell_type": "code",
   "execution_count": 31,
   "id": "229a12cc-c806-4f56-a9ab-3dc82b8d83f3",
   "metadata": {},
   "outputs": [],
   "source": [
    "embedding_qry = embeddings_model.embed_query('What was the name mentioned in the conversation?')"
   ]
  },
  {
   "cell_type": "code",
   "execution_count": 32,
   "id": "d335f69c-f924-4bbf-9768-9d22b344e72d",
   "metadata": {},
   "outputs": [
    {
     "data": {
      "text/plain": [
       "1536"
      ]
     },
     "execution_count": 32,
     "metadata": {},
     "output_type": "execute_result"
    }
   ],
   "source": [
    "len(embedding_qry)"
   ]
  },
  {
   "cell_type": "code",
   "execution_count": null,
   "id": "2e91061b-8804-4215-9565-284a61f95454",
   "metadata": {},
   "outputs": [],
   "source": []
  }
 ],
 "metadata": {
  "kernelspec": {
   "display_name": "Python 3 (ipykernel)",
   "language": "python",
   "name": "python3"
  },
  "language_info": {
   "codemirror_mode": {
    "name": "ipython",
    "version": 3
   },
   "file_extension": ".py",
   "mimetype": "text/x-python",
   "name": "python",
   "nbconvert_exporter": "python",
   "pygments_lexer": "ipython3",
   "version": "3.11.4"
  }
 },
 "nbformat": 4,
 "nbformat_minor": 5
}
